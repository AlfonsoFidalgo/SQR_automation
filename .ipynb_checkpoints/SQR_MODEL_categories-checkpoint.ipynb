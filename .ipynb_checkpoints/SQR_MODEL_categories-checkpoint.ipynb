{
 "cells": [
  {
   "cell_type": "code",
   "execution_count": 27,
   "metadata": {
    "collapsed": true
   },
   "outputs": [],
   "source": [
    "from googleads import adwords\n",
    "import pandas as pd"
   ]
  },
  {
   "cell_type": "code",
   "execution_count": 28,
   "metadata": {
    "collapsed": true
   },
   "outputs": [],
   "source": [
    "def get_accounts(client):\n",
    "    managed_customer_service = client.GetService('ManagedCustomerService', version='v201710')\n",
    "    selector = {\n",
    "                'fields': ['Name','CustomerId'],\n",
    "                'predicates': [\n",
    "                    {\n",
    "                        'field': 'Name',\n",
    "                        'operator': 'DOES_NOT_CONTAIN_IGNORE_CASE',\n",
    "                        'values': 'MCC'\n",
    "                    },\n",
    "                    {\n",
    "                        'field': 'Name',\n",
    "                        'operator': 'CONTAINS',\n",
    "                        'values': 'Consumer | SEM | English'\n",
    "                    },\n",
    "                    {\n",
    "                        'field': 'Name',\n",
    "                        'operator': 'DOES_NOT_CONTAIN',\n",
    "                        'values': 'Business'\n",
    "                    }\n",
    "                ]\n",
    "    }\n",
    "    accounts = managed_customer_service.get(selector)\n",
    "    return accounts\n",
    "\n",
    "columns = ['AccountDescriptiveName','AdGroupId', 'CampaignName','AdGroupName', 'Query', 'Impressions', 'Clicks', 'Conversions', 'Cost']\n",
    "def get_data(client):\n",
    "    accounts = get_accounts(client)\n",
    "    report_downloader = client.GetReportDownloader(version='v201710')\n",
    "    try:\n",
    "        with open('sqr_raw.csv','wb') as a:\n",
    "            for entry in accounts['links']:\n",
    "                client.client_customer_id= entry['clientCustomerId']\n",
    "                report = {\n",
    "                      'reportName': 'SEARCH_QUERY_PERFORMANCE',\n",
    "                      'dateRangeType': 'LAST_30_DAYS',\n",
    "                      #'dateRangeType': 'CUSTOM_DATE',\n",
    "                      'reportType': 'SEARCH_QUERY_PERFORMANCE_REPORT',\n",
    "                      'downloadFormat': 'CSV',\n",
    "                      'selector': {\n",
    "                          #'dateRange' : {'min': 20170601, 'max': 20180412},\n",
    "                          'fields': columns,\n",
    "                          'predicates': [\n",
    "                              {\n",
    "                                  'field': 'Impressions',\n",
    "                                  'operator': 'GREATER_THAN',\n",
    "                                  'values': '4'\n",
    "                              },\n",
    "                              {\n",
    "                                  'field': 'QueryTargetingStatus',\n",
    "                                  'operator': 'EQUALS',\n",
    "                                  'values': 'NONE'\n",
    "                              },\n",
    "                              {\n",
    "                                  'field': 'CampaignName',\n",
    "                                  'operator': 'DOES_NOT_CONTAIN',\n",
    "                                  'values': 'DSA'\n",
    "                              }\n",
    "                          ]\n",
    "                       },\n",
    "\n",
    "                }\n",
    "                report_downloader.DownloadReport(report,a)\n",
    "\n",
    "    except Exception:\n",
    "        print('error getting report')\n",
    "\n",
    "\n",
    "##FILE IS PROCESSED\n",
    "def remove_row (r):\n",
    "    try:\n",
    "        if r in ('Total', 'Account'):\n",
    "            return 'yes'\n",
    "        elif 'SEARCH_QUERY_' in r:\n",
    "            return 'yes'\n",
    "        else:\n",
    "            return 'no'\n",
    "    except Exception:\n",
    "        print(r)\n",
    "        print('error removing row')"
   ]
  },
  {
   "cell_type": "code",
   "execution_count": null,
   "metadata": {},
   "outputs": [],
   "source": [
    "if __name__ == '__main__':    # Check that this whole script is actually being run directly (as the main script) Then run the below\n",
    "    adwords_client = adwords.AdWordsClient.LoadFromStorage('../googleads.yaml')\n",
    "    get_data(adwords_client)"
   ]
  },
  {
   "cell_type": "code",
   "execution_count": 4,
   "metadata": {
    "collapsed": true
   },
   "outputs": [],
   "source": [
    "dictionary = pd.read_excel('dictionary_categories.xlsx')"
   ]
  },
  {
   "cell_type": "markdown",
   "metadata": {},
   "source": [
    "## NLP"
   ]
  },
  {
   "cell_type": "code",
   "execution_count": 5,
   "metadata": {
    "collapsed": true
   },
   "outputs": [],
   "source": [
    "import string"
   ]
  },
  {
   "cell_type": "code",
   "execution_count": 6,
   "metadata": {
    "collapsed": true
   },
   "outputs": [],
   "source": [
    "from nltk.corpus import stopwords #might not be needed"
   ]
  },
  {
   "cell_type": "code",
   "execution_count": 7,
   "metadata": {
    "collapsed": true
   },
   "outputs": [],
   "source": [
    "def text_process(query):\n",
    "    \"\"\"\n",
    "    removes all punctuation and returns a list of all words\n",
    "    \"\"\"\n",
    "    # Check characters to see if they are in punctuation\n",
    "    nopunc = [char for char in query if char not in string.punctuation]\n",
    "    # Join the characters again to form the string.\n",
    "    nopunc = ''.join(nopunc)\n",
    "\n",
    "    return [word for word in nopunc.split()]"
   ]
  },
  {
   "cell_type": "markdown",
   "metadata": {},
   "source": [
    "# VECTORIZATION"
   ]
  },
  {
   "cell_type": "code",
   "execution_count": 8,
   "metadata": {
    "collapsed": true
   },
   "outputs": [],
   "source": [
    "from sklearn.feature_extraction.text import CountVectorizer"
   ]
  },
  {
   "cell_type": "code",
   "execution_count": 9,
   "metadata": {
    "collapsed": true
   },
   "outputs": [],
   "source": [
    "#bow_transformer = CountVectorizer(analyzer=text_process).fit(dictionary['Query'])\n",
    "bow_transformer = CountVectorizer(analyzer='char_wb', ngram_range=(1,3)).fit(dictionary['Query'])"
   ]
  },
  {
   "cell_type": "code",
   "execution_count": 10,
   "metadata": {
    "collapsed": true
   },
   "outputs": [],
   "source": [
    "query_bow = bow_transformer.transform(dictionary['Query'])"
   ]
  },
  {
   "cell_type": "markdown",
   "metadata": {},
   "source": [
    "# TF-IDF"
   ]
  },
  {
   "cell_type": "code",
   "execution_count": 11,
   "metadata": {
    "collapsed": true
   },
   "outputs": [],
   "source": [
    "from sklearn.feature_extraction.text import TfidfTransformer"
   ]
  },
  {
   "cell_type": "code",
   "execution_count": 12,
   "metadata": {
    "collapsed": true
   },
   "outputs": [],
   "source": [
    "tfidf_transformer = TfidfTransformer().fit(query_bow)"
   ]
  },
  {
   "cell_type": "code",
   "execution_count": 13,
   "metadata": {
    "collapsed": true
   },
   "outputs": [],
   "source": [
    "query_tfidf = tfidf_transformer.transform(query_bow)"
   ]
  },
  {
   "cell_type": "markdown",
   "metadata": {},
   "source": [
    "# TRAINING A MODEL"
   ]
  },
  {
   "cell_type": "code",
   "execution_count": 14,
   "metadata": {
    "collapsed": true
   },
   "outputs": [],
   "source": [
    "from sklearn.naive_bayes import MultinomialNB"
   ]
  },
  {
   "cell_type": "code",
   "execution_count": 15,
   "metadata": {
    "collapsed": true
   },
   "outputs": [],
   "source": [
    "category_model = MultinomialNB().fit(query_tfidf, dictionary['Category'])"
   ]
  },
  {
   "cell_type": "markdown",
   "metadata": {},
   "source": [
    "# MODEL EVALUATION"
   ]
  },
  {
   "cell_type": "code",
   "execution_count": 16,
   "metadata": {
    "collapsed": true
   },
   "outputs": [],
   "source": [
    "all_predictions = category_model.predict(query_tfidf)"
   ]
  },
  {
   "cell_type": "code",
   "execution_count": 17,
   "metadata": {
    "collapsed": true
   },
   "outputs": [],
   "source": [
    "from sklearn.metrics import classification_report"
   ]
  },
  {
   "cell_type": "code",
   "execution_count": 18,
   "metadata": {},
   "outputs": [
    {
     "name": "stdout",
     "output_type": "stream",
     "text": [
      "                precision    recall  f1-score   support\n",
      "\n",
      "         Brand       1.00      0.48      0.65        44\n",
      "   Competitors       0.84      0.49      0.61       179\n",
      "      Currency       0.95      0.97      0.96       432\n",
      "Money Movement       0.85      0.91      0.88       627\n",
      "         Route       0.91      0.98      0.95       974\n",
      "   SEPA/Sofort       0.96      0.55      0.70        44\n",
      "         SWIFT       1.00      0.11      0.20        18\n",
      "\n",
      "   avg / total       0.90      0.90      0.89      2318\n",
      "\n"
     ]
    }
   ],
   "source": [
    "print (classification_report(dictionary['Category'], all_predictions))"
   ]
  },
  {
   "cell_type": "markdown",
   "metadata": {},
   "source": [
    "# TESTING"
   ]
  },
  {
   "cell_type": "code",
   "execution_count": 19,
   "metadata": {
    "collapsed": true
   },
   "outputs": [],
   "source": [
    "columns = ['AccountDescriptiveName','AdGroupId', 'CampaignName','AdGroupName', 'Query', 'Impressions', 'Clicks', 'Conversions', 'Cost']\n",
    "df = pd.read_csv('sqr_raw.csv')\n",
    "df.reset_index(inplace=True)\n",
    "df.columns = columns\n",
    "df['remove'] = df['AccountDescriptiveName'].apply(lambda x: remove_row(x))\n",
    "#removed unnecessary rows\n",
    "df.drop(df[df['remove'] == 'yes'].index, inplace=True)\n",
    "df['Cost'] = df['Cost'].apply(lambda x: float(x)/1000000)\n",
    "df.drop(['remove'], axis=1, inplace=True)\n",
    "#df['engine'] = 'google'"
   ]
  },
  {
   "cell_type": "code",
   "execution_count": 20,
   "metadata": {
    "collapsed": true
   },
   "outputs": [],
   "source": [
    "def categorise_all(q):\n",
    "    bow_q = bow_transformer.transform([q])\n",
    "    tfidf_q = tfidf_transformer.transform(bow_q)\n",
    "    return category_model.predict(tfidf_q)[0]"
   ]
  },
  {
   "cell_type": "code",
   "execution_count": 21,
   "metadata": {
    "collapsed": true
   },
   "outputs": [],
   "source": [
    "def campaign_category(campaign):\n",
    "    if ('Money Movement' in campaign):\n",
    "        return 'Money Movement'\n",
    "    elif ('Route' in campaign):\n",
    "        return 'Route'\n",
    "    elif ('Generic -' in campaign):\n",
    "        return 'Money Movement'\n",
    "    elif ('SEPA/Sofort' in campaign):\n",
    "        return 'SEPA/Sofort'\n",
    "    elif ('Currency' in campaign):\n",
    "        return 'Currency'\n",
    "    elif ('Competitor' in campaign):\n",
    "        return 'Competitors'\n",
    "    else:\n",
    "        return 'Other'"
   ]
  },
  {
   "cell_type": "code",
   "execution_count": 22,
   "metadata": {
    "collapsed": true
   },
   "outputs": [],
   "source": [
    "df['Category'] = df['Query'].apply(categorise_all)"
   ]
  },
  {
   "cell_type": "code",
   "execution_count": 23,
   "metadata": {
    "collapsed": true
   },
   "outputs": [],
   "source": [
    "df['Campaign_category'] = df['CampaignName'].apply(campaign_category)"
   ]
  },
  {
   "cell_type": "code",
   "execution_count": 24,
   "metadata": {
    "collapsed": true
   },
   "outputs": [],
   "source": [
    "def check_missmatch(a, b):\n",
    "    if (a != b):\n",
    "        return 'Missmatch'\n",
    "    else:\n",
    "        return 'OK'"
   ]
  },
  {
   "cell_type": "code",
   "execution_count": 25,
   "metadata": {
    "collapsed": true
   },
   "outputs": [],
   "source": [
    "df['action'] = df.apply(lambda row: check_missmatch(row['Campaign_category'], row['Category']), axis=1)"
   ]
  },
  {
   "cell_type": "code",
   "execution_count": 26,
   "metadata": {
    "collapsed": true
   },
   "outputs": [],
   "source": [
    "df[['AccountDescriptiveName', 'CampaignName', 'AdGroupName', 'AdGroupId', 'Query', 'Campaign_category', 'Category', 'action', 'Impressions', 'Clicks', 'Conversions', 'Cost']].to_excel('negatives_categories.xlsx')"
   ]
  }
 ],
 "metadata": {
  "kernelspec": {
   "display_name": "Python 3",
   "language": "python",
   "name": "python3"
  },
  "language_info": {
   "codemirror_mode": {
    "name": "ipython",
    "version": 3
   },
   "file_extension": ".py",
   "mimetype": "text/x-python",
   "name": "python",
   "nbconvert_exporter": "python",
   "pygments_lexer": "ipython3",
   "version": "3.6.2"
  }
 },
 "nbformat": 4,
 "nbformat_minor": 2
}
