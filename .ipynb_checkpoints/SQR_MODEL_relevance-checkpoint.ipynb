{
 "cells": [
  {
   "cell_type": "code",
   "execution_count": 1,
   "metadata": {
    "collapsed": true
   },
   "outputs": [],
   "source": [
    "# from datetime import datetime, timedelta\n",
    "from googleads import adwords\n",
    "# import codecs\n",
    "# import time\n",
    "# import os\n",
    "# import csv\n",
    "# import psycopg2   # For connection to postgres DB\n",
    "import pandas as pd\n",
    "# from sqlalchemy import create_engine\n",
    "# import keyring\n",
    "#import cStringIO"
   ]
  },
  {
   "cell_type": "code",
   "execution_count": 2,
   "metadata": {
    "collapsed": true
   },
   "outputs": [],
   "source": [
    "def get_accounts(client):\n",
    "    managed_customer_service = client.GetService('ManagedCustomerService', version='v201710')\n",
    "    selector = {\n",
    "                'fields': ['Name','CustomerId'],\n",
    "                'predicates': [\n",
    "                    {\n",
    "                        'field': 'Name',\n",
    "                        'operator': 'DOES_NOT_CONTAIN_IGNORE_CASE',\n",
    "                        'values': 'MCC'\n",
    "                    },\n",
    "                    {\n",
    "                        'field': 'Name',\n",
    "                        'operator': 'CONTAINS',\n",
    "                        'values': 'Consumer | SEM | English'\n",
    "                    },\n",
    "                    {\n",
    "                        'field': 'Name',\n",
    "                        'operator': 'DOES_NOT_CONTAIN',\n",
    "                        'values': 'Business'\n",
    "                    }\n",
    "                ]\n",
    "    }\n",
    "    accounts = managed_customer_service.get(selector)\n",
    "    return accounts\n",
    "\n",
    "columns = ['AccountDescriptiveName','AdGroupId', 'CampaignName','AdGroupName', 'Query', 'Impressions', 'Clicks', 'Conversions', 'Cost']\n",
    "def get_data(client):\n",
    "    accounts = get_accounts(client)\n",
    "    report_downloader = client.GetReportDownloader(version='v201710')\n",
    "    try:\n",
    "        with open('sqr_raw.csv','wb') as a:\n",
    "            for entry in accounts['links']:\n",
    "                client.client_customer_id= entry['clientCustomerId']\n",
    "                report = {\n",
    "                      'reportName': 'SEARCH_QUERY_PERFORMANCE',\n",
    "                      'dateRangeType': 'LAST_30_DAYS',\n",
    "                      #'dateRangeType': 'CUSTOM_DATE',\n",
    "                      'reportType': 'SEARCH_QUERY_PERFORMANCE_REPORT',\n",
    "                      'downloadFormat': 'CSV',\n",
    "                      'selector': {\n",
    "                          #'dateRange' : {'min': 20170601, 'max': 20180412},\n",
    "                          'fields': columns,\n",
    "                          'predicates': [\n",
    "                              {\n",
    "                                  'field': 'Impressions',\n",
    "                                  'operator': 'GREATER_THAN',\n",
    "                                  'values': '4'\n",
    "                              },\n",
    "                              {\n",
    "                                  'field': 'QueryTargetingStatus',\n",
    "                                  'operator': 'EQUALS',\n",
    "                                  'values': 'NONE'\n",
    "                              },\n",
    "                              {\n",
    "                                  'field': 'CampaignName',\n",
    "                                  'operator': 'DOES_NOT_CONTAIN',\n",
    "                                  'values': 'DSA'\n",
    "                              }\n",
    "                          ]\n",
    "                       },\n",
    "\n",
    "                }\n",
    "                report_downloader.DownloadReport(report,a)\n",
    "\n",
    "    except Exception:\n",
    "        print('error getting report')\n",
    "\n",
    "\n",
    "##FILE IS PROCESSED\n",
    "def remove_row (r):\n",
    "    try:\n",
    "        if r in ('Total', 'Account'):\n",
    "            return 'yes'\n",
    "        elif 'SEARCH_QUERY_' in r:\n",
    "            return 'yes'\n",
    "        else:\n",
    "            return 'no'\n",
    "    except Exception:\n",
    "        print(r)\n",
    "        print('error removing row')"
   ]
  },
  {
   "cell_type": "code",
   "execution_count": 3,
   "metadata": {},
   "outputs": [
    {
     "name": "stderr",
     "output_type": "stream",
     "text": [
      "No handlers could be found for logger \"googleads.common\"\n"
     ]
    }
   ],
   "source": [
    "if __name__ == '__main__':    # Check that this whole script is actually being run directly (as the main script) Then run the below\n",
    "    adwords_client = adwords.AdWordsClient.LoadFromStorage('../googleads.yaml')\n",
    "    get_data(adwords_client)"
   ]
  },
  {
   "cell_type": "code",
   "execution_count": 4,
   "metadata": {
    "collapsed": true
   },
   "outputs": [],
   "source": [
    "dictionary = pd.read_excel('dictionary_relevance.xlsx')"
   ]
  },
  {
   "cell_type": "markdown",
   "metadata": {},
   "source": [
    "## NLP"
   ]
  },
  {
   "cell_type": "code",
   "execution_count": 5,
   "metadata": {
    "collapsed": true
   },
   "outputs": [],
   "source": [
    "import string"
   ]
  },
  {
   "cell_type": "code",
   "execution_count": 6,
   "metadata": {
    "collapsed": true
   },
   "outputs": [],
   "source": [
    "from nltk.corpus import stopwords #might not be needed"
   ]
  },
  {
   "cell_type": "code",
   "execution_count": 7,
   "metadata": {
    "collapsed": true
   },
   "outputs": [],
   "source": [
    "def text_process(query):\n",
    "    \"\"\"\n",
    "    removes all punctuation and returns a list of all words\n",
    "    \"\"\"\n",
    "    # Check characters to see if they are in punctuation\n",
    "    nopunc = [char for char in query if char not in string.punctuation]\n",
    "    # Join the characters again to form the string.\n",
    "    nopunc = ''.join(nopunc)\n",
    "\n",
    "    return [word for word in nopunc.split()]"
   ]
  },
  {
   "cell_type": "markdown",
   "metadata": {},
   "source": [
    "# VECTORIZATION"
   ]
  },
  {
   "cell_type": "code",
   "execution_count": 8,
   "metadata": {},
   "outputs": [
    {
     "ename": "ImportError",
     "evalue": "No module named sklearn.feature_extraction.text",
     "output_type": "error",
     "traceback": [
      "\u001b[1;31m---------------------------------------------------------------------------\u001b[0m",
      "\u001b[1;31mImportError\u001b[0m                               Traceback (most recent call last)",
      "\u001b[1;32m<ipython-input-8-54ea10bf7c26>\u001b[0m in \u001b[0;36m<module>\u001b[1;34m()\u001b[0m\n\u001b[1;32m----> 1\u001b[1;33m \u001b[1;32mfrom\u001b[0m \u001b[0msklearn\u001b[0m\u001b[1;33m.\u001b[0m\u001b[0mfeature_extraction\u001b[0m\u001b[1;33m.\u001b[0m\u001b[0mtext\u001b[0m \u001b[1;32mimport\u001b[0m \u001b[0mCountVectorizer\u001b[0m\u001b[1;33m\u001b[0m\u001b[0m\n\u001b[0m",
      "\u001b[1;31mImportError\u001b[0m: No module named sklearn.feature_extraction.text"
     ]
    }
   ],
   "source": [
    "from sklearn.feature_extraction.text import CountVectorizer"
   ]
  },
  {
   "cell_type": "code",
   "execution_count": null,
   "metadata": {
    "collapsed": true
   },
   "outputs": [],
   "source": [
    "bow_transformer = CountVectorizer(analyzer=text_process).fit(dictionary['Query'])"
   ]
  },
  {
   "cell_type": "code",
   "execution_count": 9,
   "metadata": {},
   "outputs": [
    {
     "ename": "NameError",
     "evalue": "name 'bow_transformer' is not defined",
     "output_type": "error",
     "traceback": [
      "\u001b[1;31m---------------------------------------------------------------------------\u001b[0m",
      "\u001b[1;31mNameError\u001b[0m                                 Traceback (most recent call last)",
      "\u001b[1;32m<ipython-input-9-164c914cf224>\u001b[0m in \u001b[0;36m<module>\u001b[1;34m()\u001b[0m\n\u001b[1;32m----> 1\u001b[1;33m \u001b[0mquery_bow\u001b[0m \u001b[1;33m=\u001b[0m \u001b[0mbow_transformer\u001b[0m\u001b[1;33m.\u001b[0m\u001b[0mtransform\u001b[0m\u001b[1;33m(\u001b[0m\u001b[0mdictionary\u001b[0m\u001b[1;33m[\u001b[0m\u001b[1;34m'Query'\u001b[0m\u001b[1;33m]\u001b[0m\u001b[1;33m)\u001b[0m\u001b[1;33m\u001b[0m\u001b[0m\n\u001b[0m",
      "\u001b[1;31mNameError\u001b[0m: name 'bow_transformer' is not defined"
     ]
    }
   ],
   "source": [
    "query_bow = bow_transformer.transform(dictionary['Query'])"
   ]
  },
  {
   "cell_type": "markdown",
   "metadata": {},
   "source": [
    "# TF-IDF"
   ]
  },
  {
   "cell_type": "code",
   "execution_count": 11,
   "metadata": {
    "collapsed": true
   },
   "outputs": [],
   "source": [
    "from sklearn.feature_extraction.text import TfidfTransformer"
   ]
  },
  {
   "cell_type": "code",
   "execution_count": 12,
   "metadata": {
    "collapsed": true
   },
   "outputs": [],
   "source": [
    "tfidf_transformer = TfidfTransformer().fit(query_bow)"
   ]
  },
  {
   "cell_type": "code",
   "execution_count": 13,
   "metadata": {
    "collapsed": true
   },
   "outputs": [],
   "source": [
    "query_tfidf = tfidf_transformer.transform(query_bow)"
   ]
  },
  {
   "cell_type": "markdown",
   "metadata": {},
   "source": [
    "# TRAINING A MODEL"
   ]
  },
  {
   "cell_type": "code",
   "execution_count": 14,
   "metadata": {
    "collapsed": true
   },
   "outputs": [],
   "source": [
    "from sklearn.naive_bayes import MultinomialNB"
   ]
  },
  {
   "cell_type": "code",
   "execution_count": 15,
   "metadata": {
    "collapsed": true
   },
   "outputs": [],
   "source": [
    "category_model = MultinomialNB().fit(query_tfidf, dictionary['Relevance'])"
   ]
  },
  {
   "cell_type": "markdown",
   "metadata": {},
   "source": [
    "# MODEL EVALUATION"
   ]
  },
  {
   "cell_type": "code",
   "execution_count": 16,
   "metadata": {
    "collapsed": true
   },
   "outputs": [],
   "source": [
    "all_predictions = category_model.predict(query_tfidf)"
   ]
  },
  {
   "cell_type": "code",
   "execution_count": 17,
   "metadata": {
    "collapsed": true
   },
   "outputs": [],
   "source": [
    "from sklearn.metrics import classification_report"
   ]
  },
  {
   "cell_type": "code",
   "execution_count": 18,
   "metadata": {},
   "outputs": [
    {
     "name": "stdout",
     "output_type": "stream",
     "text": [
      "             precision    recall  f1-score   support\n",
      "\n",
      "       High       0.86      0.99      0.92      1206\n",
      "        Low       0.97      0.93      0.95       759\n",
      "     Medium       0.89      0.57      0.70       399\n",
      "\n",
      "avg / total       0.90      0.90      0.89      2364\n",
      "\n"
     ]
    }
   ],
   "source": [
    "print (classification_report(dictionary['Relevance'], all_predictions))"
   ]
  },
  {
   "cell_type": "markdown",
   "metadata": {},
   "source": [
    "# TESTING"
   ]
  },
  {
   "cell_type": "code",
   "execution_count": 19,
   "metadata": {
    "collapsed": true
   },
   "outputs": [],
   "source": [
    "columns = ['AccountDescriptiveName','AdGroupId', 'CampaignName','AdGroupName', 'Query', 'Impressions', 'Clicks', 'Conversions', 'Cost']\n",
    "df = pd.read_csv('sqr_raw.csv')\n",
    "df.reset_index(inplace=True)\n",
    "df.columns = columns\n",
    "df['remove'] = df['AccountDescriptiveName'].apply(lambda x: remove_row(x))\n",
    "#removed unnecessary rows\n",
    "df.drop(df[df['remove'] == 'yes'].index, inplace=True)\n",
    "df['Cost'] = df['Cost'].apply(lambda x: float(x)/1000000)\n",
    "df.drop(['remove'], axis=1, inplace=True)\n",
    "#df['engine'] = 'google'"
   ]
  },
  {
   "cell_type": "code",
   "execution_count": 20,
   "metadata": {
    "collapsed": true
   },
   "outputs": [],
   "source": [
    "def categorise_all(q):\n",
    "    bow_q = bow_transformer.transform([q])\n",
    "    tfidf_q = tfidf_transformer.transform(bow_q)\n",
    "    return category_model.predict(tfidf_q)[0]"
   ]
  },
  {
   "cell_type": "code",
   "execution_count": 21,
   "metadata": {
    "collapsed": true
   },
   "outputs": [],
   "source": [
    "df['Relevance'] = df['Query'].apply(categorise_all)"
   ]
  },
  {
   "cell_type": "code",
   "execution_count": 22,
   "metadata": {
    "collapsed": true
   },
   "outputs": [],
   "source": [
    "df[['AccountDescriptiveName', 'AdGroupId', 'Query', 'Relevance', 'Impressions', 'Clicks', 'Conversions', 'Cost']].to_excel('negatives.xlsx')"
   ]
  },
  {
   "cell_type": "code",
   "execution_count": null,
   "metadata": {
    "collapsed": true
   },
   "outputs": [],
   "source": []
  }
 ],
 "metadata": {
  "kernelspec": {
   "display_name": "Python 2",
   "language": "python",
   "name": "python2"
  },
  "language_info": {
   "codemirror_mode": {
    "name": "ipython",
    "version": 2
   },
   "file_extension": ".py",
   "mimetype": "text/x-python",
   "name": "python",
   "nbconvert_exporter": "python",
   "pygments_lexer": "ipython2",
   "version": "2.7.14"
  }
 },
 "nbformat": 4,
 "nbformat_minor": 2
}
