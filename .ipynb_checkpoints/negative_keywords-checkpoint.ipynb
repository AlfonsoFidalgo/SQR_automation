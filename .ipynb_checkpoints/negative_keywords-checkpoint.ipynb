{
 "cells": [
  {
   "cell_type": "code",
   "execution_count": 1,
   "metadata": {
    "collapsed": true
   },
   "outputs": [],
   "source": [
    "from googleads import adwords\n",
    "import pandas as pd"
   ]
  },
  {
   "cell_type": "code",
   "execution_count": 2,
   "metadata": {
    "collapsed": true
   },
   "outputs": [],
   "source": [
    "def get_accounts(client):\n",
    "    \n",
    "    managed_customer_service = client.GetService('ManagedCustomerService', version='v201802')\n",
    "    selector = {\n",
    "                'fields': ['Name','CustomerId'],\n",
    "                'predicates': [\n",
    "                    {\n",
    "                        'field': 'Name',\n",
    "                        'operator': 'IN',\n",
    "                        'values': list(df['AccountDescriptiveName'].unique())\n",
    "                    }\n",
    "                ]\n",
    "    }\n",
    "    accounts = managed_customer_service.get(selector)\n",
    "    return accounts\n",
    "\n",
    "def upload_negatives(client):\n",
    "    accounts = get_accounts(client)\n",
    "\n",
    "    try:\n",
    "        for entry in accounts['entries']:\n",
    "            #iterates through accounts\n",
    "            account_name = entry['name']\n",
    "            client.client_customer_id = entry['customerId']\n",
    "            ad_group_criterion_service = client.GetService('AdGroupCriterionService', version='v201802')\n",
    "            \n",
    "            adgroups = list(df[df['AccountDescriptiveName'] == account_name]['AdGroupId'].unique())\n",
    "            for adgroup in adgroups:\n",
    "                \n",
    "                terms = list(df[(df['AccountDescriptiveName'] == account_name) & (df['AdGroupId'] == adgroup)]['Query'])\n",
    "                for term in terms:\n",
    "                    try:\n",
    "                        keyword = {\n",
    "                            'xsi_type': 'NegativeAdGroupCriterion',\n",
    "                            'adGroupId': adgroup,\n",
    "                            'criterion': {\n",
    "                                'xsi_type': 'Keyword',\n",
    "                                'matchType': 'EXACT',\n",
    "                                'text': term\n",
    "                            }\n",
    "                        }\n",
    "\n",
    "                        operations = [\n",
    "                            {\n",
    "                                'operator': 'ADD',\n",
    "                                'operand': keyword\n",
    "                            }\n",
    "                        ]\n",
    "\n",
    "                        ad_group_criteria = ad_group_criterion_service.mutate(operations)['value']\n",
    "                    except Exception,e:\n",
    "                        print('Error with ' + term)\n",
    "            \n",
    "    except Exception,e:\n",
    "        print(e)"
   ]
  },
  {
   "cell_type": "code",
   "execution_count": 3,
   "metadata": {},
   "outputs": [
    {
     "name": "stderr",
     "output_type": "stream",
     "text": [
      "No handlers could be found for logger \"googleads.common\"\n"
     ]
    }
   ],
   "source": [
    "if __name__ == '__main__':    # Check that this whole script is actually being run directly (as the main script) Then run the below\n",
    "    df = pd.read_excel('negatives.xlsx')\n",
    "    df.reset_index(inplace=True)\n",
    "    adwords_client = adwords.AdWordsClient.LoadFromStorage('../googleads.yaml')\n",
    "    upload_negatives(adwords_client)"
   ]
  },
  {
   "cell_type": "code",
   "execution_count": null,
   "metadata": {
    "collapsed": true
   },
   "outputs": [],
   "source": []
  }
 ],
 "metadata": {
  "kernelspec": {
   "display_name": "Python 2",
   "language": "python",
   "name": "python2"
  },
  "language_info": {
   "codemirror_mode": {
    "name": "ipython",
    "version": 2
   },
   "file_extension": ".py",
   "mimetype": "text/x-python",
   "name": "python",
   "nbconvert_exporter": "python",
   "pygments_lexer": "ipython2",
   "version": "2.7.14"
  }
 },
 "nbformat": 4,
 "nbformat_minor": 2
}
