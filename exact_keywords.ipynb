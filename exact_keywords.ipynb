{
 "cells": [
  {
   "cell_type": "code",
   "execution_count": 1,
   "metadata": {
    "collapsed": true
   },
   "outputs": [],
   "source": [
    "from googleads import adwords\n",
    "import pandas as pd"
   ]
  },
  {
   "cell_type": "code",
   "execution_count": 2,
   "metadata": {
    "collapsed": true
   },
   "outputs": [],
   "source": [
    "def get_campaignId(campaign):\n",
    "    campaign_service = client.GetService('CampaignService', version='v201802')\n",
    "    query = (adwords.ServiceQueryBuilder()\n",
    "           .Select('Id')\n",
    "           .Where('CampaignName').EqualTo(campaign)\n",
    "           .OrderBy('Name')\n",
    "           .Limit(0, 10)\n",
    "           .Build())\n",
    "    for page in query.Pager(campaign_service):\n",
    "        if 'entries' in page:\n",
    "            for camp in page['entries']:\n",
    "                print(camp['id'])\n",
    "        else:\n",
    "            print('no campaign found')"
   ]
  },
  {
   "cell_type": "code",
   "execution_count": 15,
   "metadata": {
    "collapsed": true
   },
   "outputs": [],
   "source": [
    "def get_adgroupId(adgroup, client):\n",
    "    adgroup_service = client.GetService('AdGroupService', version='v201802')\n",
    "    query = (adwords.ServiceQueryBuilder()\n",
    "           .Select('Id')\n",
    "           .Where('AdGroupName').EqualTo(adgroup)\n",
    "           .OrderBy('Name')\n",
    "           .Limit(0, 10)\n",
    "           .Build())\n",
    "    for page in query.Pager(adgroup_service):\n",
    "        if 'entries' in page:\n",
    "            for adg in page['entries']:\n",
    "                return(adg['id'])\n",
    "        else:\n",
    "            return(0)"
   ]
  },
  {
   "cell_type": "code",
   "execution_count": 4,
   "metadata": {
    "collapsed": true
   },
   "outputs": [],
   "source": [
    "# def get_accounts(client):\n",
    "    \n",
    "#     managed_customer_service = client.GetService('ManagedCustomerService', version='v201802')\n",
    "#     selector = {\n",
    "#                 'fields': ['Name','CustomerId'],\n",
    "#                 'predicates': [\n",
    "#                     {\n",
    "#                         'field': 'Name',\n",
    "#                         'operator': 'IN',\n",
    "#                         'values': list(df['AccountDescriptiveName'].unique())\n",
    "#                     }\n",
    "#                 ]\n",
    "#     }\n",
    "#     accounts = managed_customer_service.get(selector)\n",
    "#     return accounts\n",
    "\n",
    "# def upload_keywords(client):\n",
    "#     accounts = get_accounts(client)\n",
    "\n",
    "#     try:\n",
    "#         for entry in accounts['entries']:\n",
    "#             #iterates through accounts\n",
    "#             account_name = entry['name']\n",
    "#             client.client_customer_id = entry['customerId']\n",
    "#             ad_group_criterion_service = client.GetService('AdGroupCriterionService', version='v201802')\n",
    "            \n",
    "#             adgroups = list(df[df['AccountDescriptiveName'] == account_name]['AdGroupId'].unique())\n",
    "#             for adgroup in adgroups:\n",
    "                \n",
    "#                 terms = list(df[(df['AccountDescriptiveName'] == account_name) & (df['AdGroupId'] == adgroup)]['Query'])\n",
    "#                 for term in terms:\n",
    "#                     try:\n",
    "#                         keyword = {\n",
    "#                             'xsi_type': 'BiddableAdGroupCriterion',\n",
    "#                             'adGroupId': adgroup,\n",
    "#                             'criterion': {\n",
    "#                                 'xsi_type': 'Keyword',\n",
    "#                                 'matchType': 'EXACT',\n",
    "#                                 'text': term\n",
    "#                             },\n",
    "#                             'finalUrls': {\n",
    "#                                 'urls': ['https://transferwise.com/?utm_source=google&utm_medium=cpc&matchtype={matchtype}&device={device}&creative={creative}&keyword={keyword}&campaignid={campaignid}&adgroupid={adgroupid}&utm_campaign={campaignid}___{adgroupid}']\n",
    "#                             }\n",
    "#                         }\n",
    "\n",
    "#                         operations = [\n",
    "#                             {\n",
    "#                                 'operator': 'ADD',\n",
    "#                                 'operand': keyword\n",
    "#                             }\n",
    "#                         ]\n",
    "#                         ad_group_criteria = ad_group_criterion_service.mutate(operations)['value']\n",
    "#                     except Exception,e:\n",
    "#                         print('Error with ' + term)\n",
    "#                         print(e)\n",
    "            \n",
    "#     except Exception,e:\n",
    "#         print(e)"
   ]
  },
  {
   "cell_type": "code",
   "execution_count": 5,
   "metadata": {
    "collapsed": true
   },
   "outputs": [],
   "source": [
    "def get_exact_names():\n",
    "    df = pd.read_excel('exact_upload.xlsx')\n",
    "    df['campaign_exact'] = df['CampaignName'].apply(lambda x: x.replace('Broad', 'Exact'))\n",
    "    df['adgroup_exact'] = df['AdGroupName'].apply(lambda x: x.replace('Broad', 'Exact'))\n",
    "    df.to_excel('exact_upload_clean.xlsx')"
   ]
  },
  {
   "cell_type": "code",
   "execution_count": 12,
   "metadata": {
    "collapsed": true
   },
   "outputs": [],
   "source": [
    "def get_ids(client):\n",
    "    managed_customer_service = client.GetService('ManagedCustomerService', version='v201802')\n",
    "    selector = {\n",
    "                'fields': ['Name','CustomerId'],\n",
    "                'predicates': [\n",
    "                    {\n",
    "                        'field': 'Name',\n",
    "                        'operator': 'IN',\n",
    "                        'values': list(df['AccountDescriptiveName'].unique())\n",
    "                    }\n",
    "                ]\n",
    "    }\n",
    "    accounts = managed_customer_service.get(selector)\n",
    "    account_col = []\n",
    "    adgroup_id_col = []\n",
    "    keyword_col = []\n",
    "    \n",
    "    try:\n",
    "        for entry in accounts['entries']:\n",
    "            account_name = entry['name']\n",
    "            account_col.append(account_name)\n",
    "            \n",
    "            client.client_customer_id = entry['customerId']\n",
    "            adgroups = list(df[df['AccountDescriptiveName'] == account_name]['adgroup_exact'].unique())\n",
    "            for adgroup in adgroups:\n",
    "                adgroup_id_col.append(get_adgroupId(adgroup, client))\n",
    "                \n",
    "    except:\n",
    "        print('error')"
   ]
  },
  {
   "cell_type": "code",
   "execution_count": 13,
   "metadata": {},
   "outputs": [
    {
     "name": "stderr",
     "output_type": "stream",
     "text": [
      "Your default encoding, cp1252, is not UTF-8. Please run this script with UTF-8 encoding to avoid errors.\n"
     ]
    },
    {
     "name": "stdout",
     "output_type": "stream",
     "text": [
      "AU | Consumer | SEM | English\n",
      "51381643589\n",
      "AU | Consumer | SEM | English\n",
      "45696080078\n",
      "All | Consumer | SEM | English\n",
      "47551345589\n"
     ]
    }
   ],
   "source": [
    "if __name__ == '__main__':\n",
    "    get_exact_names()\n",
    "    df = pd.read_excel('exact_upload_clean.xlsx')\n",
    "    df.reset_index(inplace=True)\n",
    "    adwords_client = adwords.AdWordsClient.LoadFromStorage('../googleads.yaml')\n",
    "    get_ids(adwords_client)\n",
    "#     upload_keywords(adwords_client)"
   ]
  },
  {
   "cell_type": "code",
   "execution_count": null,
   "metadata": {
    "collapsed": true
   },
   "outputs": [],
   "source": []
  }
 ],
 "metadata": {
  "kernelspec": {
   "display_name": "Python 3",
   "language": "python",
   "name": "python3"
  },
  "language_info": {
   "codemirror_mode": {
    "name": "ipython",
    "version": 3
   },
   "file_extension": ".py",
   "mimetype": "text/x-python",
   "name": "python",
   "nbconvert_exporter": "python",
   "pygments_lexer": "ipython3",
   "version": "3.6.2"
  }
 },
 "nbformat": 4,
 "nbformat_minor": 2
}
